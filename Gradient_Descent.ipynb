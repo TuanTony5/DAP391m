{
 "cells": [
  {
   "cell_type": "code",
   "execution_count": 1,
   "metadata": {},
   "outputs": [],
   "source": [
    "import numpy as np "
   ]
  },
  {
   "cell_type": "code",
   "execution_count": 22,
   "metadata": {},
   "outputs": [
    {
     "data": {
      "text/plain": [
       "[0.4652574157017627,\n",
       " 2.0688616428013717,\n",
       " 4.122214747795614,\n",
       " 6.835538131281381,\n",
       " 8.5687654235723,\n",
       " 10.89386364676429,\n",
       " 12.542035133898782,\n",
       " 14.994175180607686,\n",
       " 16.38791444003208,\n",
       " 18.65737573698858,\n",
       " 20.015669920320025,\n",
       " 22.470752515906575,\n",
       " 24.185243339271054,\n",
       " 26.32350657799873,\n",
       " 28.24160440174606,\n",
       " 30.762730641648375,\n",
       " 32.73147633673531,\n",
       " 34.624089997508584,\n",
       " 36.52431637432365,\n",
       " 38.471023880619185,\n",
       " 40.12249723753427,\n",
       " 42.66281602438577,\n",
       " 44.11708296867147,\n",
       " 46.876904437363294,\n",
       " 48.34031746807325,\n",
       " 50.95988202150154,\n",
       " 52.95980229403267,\n",
       " 54.130357119610835,\n",
       " 56.75807223794596,\n",
       " 58.27410216398028,\n",
       " 60.75095604396035,\n",
       " 62.00207046444229,\n",
       " 64.09548178941566,\n",
       " 66.37452241929434,\n",
       " 68.67215309547842,\n",
       " 70.83417617784173,\n",
       " 72.08597949089928,\n",
       " 74.62044967280248,\n",
       " 76.63681252649292,\n",
       " 78.00055106805098,\n",
       " 80.39578180120199,\n",
       " 82.1216371878783,\n",
       " 84.00804804456577,\n",
       " 86.2192322615236,\n",
       " 88.02609357651252,\n",
       " 90.06475559166688,\n",
       " 92.57507338823028,\n",
       " 94.47052987222767,\n",
       " 96.0412126440243,\n",
       " 98.08554088645633,\n",
       " 100.67955374162983,\n",
       " 102.15263322591382,\n",
       " 104.39317299012417,\n",
       " 106.07500310626648,\n",
       " 108.42753782211588,\n",
       " 110.70141799735953,\n",
       " 112.3591845204032,\n",
       " 114.92872433072874,\n",
       " 116.82494842189759,\n",
       " 118.97588070634025,\n",
       " 120.44200715211747,\n",
       " 122.0712446383513,\n",
       " 124.70209208023466,\n",
       " 126.25890150123583,\n",
       " 128.1973585130889,\n",
       " 130.60069882466354,\n",
       " 132.93198151983034,\n",
       " 134.60358088062978,\n",
       " 136.67500557383332,\n",
       " 138.7552760715343,\n",
       " 140.10365210676127,\n",
       " 142.5910476573275,\n",
       " 144.78463559618518,\n",
       " 146.03469727789835,\n",
       " 148.43311149938546,\n",
       " 150.47576538154286,\n",
       " 152.2430164675895,\n",
       " 154.10768535763697,\n",
       " 156.66391284265288,\n",
       " 158.80565007658328,\n",
       " 160.48692285980684,\n",
       " 162.33748731176712,\n",
       " 164.1641784032661,\n",
       " 166.502801046877,\n",
       " 168.70081385585726,\n",
       " 170.86848089664153,\n",
       " 172.8813899612559,\n",
       " 174.006966347991,\n",
       " 176.70548103409237,\n",
       " 178.55513204556794,\n",
       " 180.71695559939508,\n",
       " 182.29409283642582,\n",
       " 184.2688604043999,\n",
       " 186.66221473745097,\n",
       " 188.0252778862591,\n",
       " 190.03378044724136,\n",
       " 192.6819809356609,\n",
       " 194.10459978460756,\n",
       " 196.69242534857761,\n",
       " 198.4113409922435]"
      ]
     },
     "execution_count": 22,
     "metadata": {},
     "output_type": "execute_result"
    }
   ],
   "source": [
    "X = np.arange(100)\n",
    "y = [2*a + np.random.uniform() for a in range(100)]\n",
    "y\n",
    "# WHITE NOISE "
   ]
  },
  {
   "cell_type": "markdown",
   "metadata": {},
   "source": [
    "## Su dung gradient descent de giai bai toan \n",
    "Y_hat = A*X ( A --> 2)\n",
    "learning_rate = 0.001 "
   ]
  },
  {
   "cell_type": "code",
   "execution_count": 23,
   "metadata": {},
   "outputs": [
    {
     "name": "stdout",
     "output_type": "stream",
     "text": [
      "Epoch:0 | mse:385424925.0230 | a=344.6179\n",
      "Epoch:1 | mse:45424212.2663 | a=119.6252\n",
      "Epoch:2 | mse:5353465.6644 | a=42.3852\n",
      "Epoch:3 | mse:630932.2314 | a=15.8687\n",
      "Epoch:4 | mse:74358.5731 | a=6.7656\n",
      "Epoch:5 | mse:8763.6459 | a=3.6405\n",
      "Epoch:6 | mse:1032.9629 | a=2.5676\n",
      "Epoch:7 | mse:121.8641 | a=2.1993\n",
      "Epoch:8 | mse:14.4867 | a=2.0729\n",
      "Epoch:9 | mse:1.8317 | a=2.0295\n",
      "Epoch:10 | mse:0.3403 | a=2.0146\n",
      "Epoch:11 | mse:0.1645 | a=2.0095\n",
      "Epoch:12 | mse:0.1438 | a=2.0077\n",
      "Epoch:13 | mse:0.1414 | a=2.0071\n",
      "Epoch:14 | mse:0.1411 | a=2.0069\n",
      "Epoch:15 | mse:0.1410 | a=2.0068\n",
      "Epoch:16 | mse:0.1410 | a=2.0068\n",
      "Epoch:17 | mse:0.1410 | a=2.0068\n",
      "Epoch:18 | mse:0.1410 | a=2.0068\n",
      "Epoch:19 | mse:0.1410 | a=2.0068\n"
     ]
    }
   ],
   "source": [
    "a = 1000 # Gia tri khoi tao cua a \n",
    "learning_rate = 0.0001 # Learning rate \n",
    "n = len(y) # batch_size \n",
    "\n",
    "for epoch in range(20):\n",
    "    # Buoc 1: Tinh gradient tai diem a \n",
    "    y_hat = a*X # Feed forward\n",
    "    dL_da = -2/n*np.sum((y-y_hat)*X) # Tinh gradient \n",
    "    # Buoc 2: Dung cong thuc gradient de update lai diem a moi\n",
    "    a = a - dL_da*learning_rate\n",
    "    y_hat = a*X # Feed forward for testing \n",
    "    mse = 1/n*np.sum((y-y_hat)**2)\n",
    "    print(f'Epoch:{epoch} | mse:{mse:.4f} | a={a:.4f}')"
   ]
  },
  {
   "cell_type": "code",
   "execution_count": 25,
   "metadata": {},
   "outputs": [
    {
     "data": {
      "text/plain": [
       "2006.7951777170676"
      ]
     },
     "execution_count": 25,
     "metadata": {},
     "output_type": "execute_result"
    }
   ],
   "source": [
    "## Prediction  \n",
    "x = 1000 # Test data \n",
    "y_hat = a*x # Feed forward\n",
    "y_hat"
   ]
  },
  {
   "cell_type": "markdown",
   "metadata": {},
   "source": [
    "### Du doan xac suat dau mon DAP391 cua lop AI1803\n",
    "\n",
    "1.  Input: so gio hoc mon trong tuan \n",
    "2.  Output: Dau(1) hay khong dau(0)\n"
   ]
  },
  {
   "cell_type": "code",
   "execution_count": 49,
   "metadata": {},
   "outputs": [
    {
     "name": "stdout",
     "output_type": "stream",
     "text": [
      "[ 7  0 10 10  9  7 11  7  7 12 11  2 10  8  5 11  9  9 10 10 10  9  6  4\n",
      " 13  8  2 12  5  1  7 11 13  1 12 13 11  9  3 10  2  8  6 12  3  6  3 11\n",
      "  3  2  9  7 12 13  6  0  6 11 13  8  9  1  8 10  1 10  3  0 11  7  3  5\n",
      "  5  4 12  0  3  5  9  9  8 12 11  9  6 12  1  2  1 12 10  8  7  3  1  6\n",
      "  7  7  8  3] [0 0 1 1 1 0 1 0 0 1 1 0 1 1 0 1 1 1 1 1 1 1 0 0 1 1 0 1 0 0 0 1 1 0 1 1 1\n",
      " 1 0 1 0 1 0 1 0 0 0 1 0 0 1 0 1 1 0 0 0 1 1 1 1 0 1 1 0 1 0 0 1 0 0 0 0 0\n",
      " 1 0 0 0 1 1 1 1 1 1 0 1 0 0 0 1 1 1 0 0 0 0 0 0 1 0]\n"
     ]
    }
   ],
   "source": [
    "X=np.array([np.random.randint(14) for i in range(100)]) # Random so tu 0 den 14 100 lan\n",
    "y = np.where(X>7,1,0) # Neu hoc hon 10 tieng 1 tuan thi se dau mon\n",
    "print(X,y)"
   ]
  },
  {
   "cell_type": "code",
   "execution_count": 62,
   "metadata": {},
   "outputs": [
    {
     "name": "stdout",
     "output_type": "stream",
     "text": [
      "Epoch:0|loss:2.8803|a:1.3131|b:-0.0454\n",
      "Epoch:1|loss:2.5112|a:1.1270|b:-0.0902\n",
      "Epoch:2|loss:2.1459|a:0.9421|b:-0.1344\n",
      "Epoch:3|loss:1.7865|a:0.7593|b:-0.1777\n",
      "Epoch:4|loss:1.4368|a:0.5802|b:-0.2195\n",
      "Epoch:5|loss:1.1054|a:0.4093|b:-0.2592\n",
      "Epoch:6|loss:0.8133|a:0.2596|b:-0.2947\n",
      "Epoch:7|loss:0.6115|a:0.1647|b:-0.3223\n",
      "Epoch:8|loss:0.5490|a:0.1495|b:-0.3400\n",
      "Epoch:9|loss:0.5452|a:0.1537|b:-0.3554\n",
      "Epoch:10|loss:0.5427|a:0.1551|b:-0.3711\n",
      "Epoch:11|loss:0.5402|a:0.1570|b:-0.3865\n",
      "Epoch:12|loss:0.5378|a:0.1587|b:-0.4020\n",
      "Epoch:13|loss:0.5354|a:0.1605|b:-0.4173\n",
      "Epoch:14|loss:0.5330|a:0.1623|b:-0.4326\n",
      "Epoch:15|loss:0.5307|a:0.1640|b:-0.4477\n",
      "Epoch:16|loss:0.5283|a:0.1658|b:-0.4629\n",
      "Epoch:17|loss:0.5260|a:0.1675|b:-0.4779\n",
      "Epoch:18|loss:0.5238|a:0.1693|b:-0.4928\n",
      "Epoch:19|loss:0.5215|a:0.1710|b:-0.5077\n",
      "Epoch:20|loss:0.5193|a:0.1727|b:-0.5225\n",
      "Epoch:21|loss:0.5170|a:0.1745|b:-0.5373\n",
      "Epoch:22|loss:0.5148|a:0.1762|b:-0.5519\n",
      "Epoch:23|loss:0.5127|a:0.1779|b:-0.5665\n",
      "Epoch:24|loss:0.5105|a:0.1796|b:-0.5810\n",
      "Epoch:25|loss:0.5084|a:0.1812|b:-0.5955\n",
      "Epoch:26|loss:0.5063|a:0.1829|b:-0.6098\n",
      "Epoch:27|loss:0.5042|a:0.1846|b:-0.6241\n",
      "Epoch:28|loss:0.5021|a:0.1862|b:-0.6384\n",
      "Epoch:29|loss:0.5001|a:0.1879|b:-0.6525\n",
      "Epoch:30|loss:0.4981|a:0.1895|b:-0.6666\n",
      "Epoch:31|loss:0.4960|a:0.1912|b:-0.6806\n",
      "Epoch:32|loss:0.4941|a:0.1928|b:-0.6946\n",
      "Epoch:33|loss:0.4921|a:0.1944|b:-0.7085\n",
      "Epoch:34|loss:0.4901|a:0.1961|b:-0.7223\n",
      "Epoch:35|loss:0.4882|a:0.1977|b:-0.7360\n",
      "Epoch:36|loss:0.4863|a:0.1993|b:-0.7497\n",
      "Epoch:37|loss:0.4844|a:0.2009|b:-0.7633\n",
      "Epoch:38|loss:0.4825|a:0.2025|b:-0.7769\n",
      "Epoch:39|loss:0.4807|a:0.2040|b:-0.7903\n",
      "Epoch:40|loss:0.4788|a:0.2056|b:-0.8038\n",
      "Epoch:41|loss:0.4770|a:0.2072|b:-0.8171\n",
      "Epoch:42|loss:0.4752|a:0.2088|b:-0.8304\n",
      "Epoch:43|loss:0.4734|a:0.2103|b:-0.8436\n",
      "Epoch:44|loss:0.4717|a:0.2119|b:-0.8568\n",
      "Epoch:45|loss:0.4699|a:0.2134|b:-0.8699\n",
      "Epoch:46|loss:0.4682|a:0.2149|b:-0.8829\n",
      "Epoch:47|loss:0.4665|a:0.2165|b:-0.8959\n",
      "Epoch:48|loss:0.4648|a:0.2180|b:-0.9088\n",
      "Epoch:49|loss:0.4631|a:0.2195|b:-0.9217\n"
     ]
    }
   ],
   "source": [
    "a = 1.5 \n",
    "b = 0.0\n",
    "learning_rate = 0.1\n",
    "n = len(y)\n",
    "for epoch in range(50):\n",
    "    # 1. Tinh feedforward \n",
    "    z = a*X + b\n",
    "    y_hat = 1/(1+np.exp(-z)) # Ham sigmoid\n",
    "    dz_da = X \n",
    "    dyhat_dz = (y_hat-y_hat**2)\n",
    "    # print((y/y_hat).shape)\n",
    "    dL_dyhat = -1/n*(y/y_hat-(1-y)/(1-y_hat))\n",
    "    dL_da = dz_da*dyhat_dz*dL_dyhat # Gradient \n",
    "    dL_db = dL_dyhat*dyhat_dz\n",
    "    # 2. Ap dung cong thuc gradient descent \n",
    "    a = a-np.sum(dL_da*learning_rate) \n",
    "    b = b-np.sum(dL_db*learning_rate)\n",
    "    loss = -1/n*np.sum(y*np.log(y_hat)+(1-y)*np.log(1-y_hat))\n",
    "    print(f'Epoch:{epoch}|loss:{loss:.4f}|a:{a:.4f}|b:{b:.4f}')\n",
    "\n",
    "\n"
   ]
  },
  {
   "cell_type": "code",
   "execution_count": 63,
   "metadata": {},
   "outputs": [
    {
     "data": {
      "text/plain": [
       "array([0.33133221, 0.38162073, 0.43458128, 0.48907863, 0.81649001,\n",
       "       0.84712617, 0.87344054, 0.89578263])"
      ]
     },
     "execution_count": 63,
     "metadata": {},
     "output_type": "execute_result"
    }
   ],
   "source": [
    "X_test= np.array([1,2,3,4,11,12,13,14])\n",
    "z = a*X_test+b\n",
    "y_hat = 1/(1+np.exp(-z))\n",
    "y_hat"
   ]
  },
  {
   "cell_type": "markdown",
   "metadata": {},
   "source": []
  }
 ],
 "metadata": {
  "kernelspec": {
   "display_name": "Python 3",
   "language": "python",
   "name": "python3"
  },
  "language_info": {
   "codemirror_mode": {
    "name": "ipython",
    "version": 3
   },
   "file_extension": ".py",
   "mimetype": "text/x-python",
   "name": "python",
   "nbconvert_exporter": "python",
   "pygments_lexer": "ipython3",
   "version": "3.10.5"
  }
 },
 "nbformat": 4,
 "nbformat_minor": 2
}
